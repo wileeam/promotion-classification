{
  "nbformat": 4,
  "nbformat_minor": 0,
  "metadata": {
    "colab": {
      "name": "promotion-classification",
      "provenance": [],
      "collapsed_sections": [],
      "toc_visible": true
    },
    "kernelspec": {
      "name": "python3",
      "display_name": "Python 3"
    },
    "accelerator": "GPU"
  },
  "cells": [
    {
      "cell_type": "markdown",
      "metadata": {
        "id": "ZxaXrRQQDN2A",
        "colab_type": "text"
      },
      "source": [
        "# **Classify promotion buyers through predictive techniques**\n",
        "\n",
        "Big Corp. Inc. is in the early stages of working in a data-driven fashion. Currently, they are investigating how promoting products can be used to increase revenue. Big Corp. Inc. has historically collected data on this, but no one in the company has ever looked at it in greater detail.\n",
        "\n",
        "You are now tasked with delivering a model capable of classifying customers as \n",
        "likely buyers of promoted items or not based on this historic data."
      ]
    },
    {
      "cell_type": "code",
      "metadata": {
        "id": "OKfiXu4yEODb",
        "colab_type": "code",
        "outputId": "b4c3a0fb-4918-4daf-cf67-0eb553c2ab7b",
        "colab": {
          "base_uri": "https://localhost:8080/",
          "height": 360
        }
      },
      "source": [
        "# Install H2O framework if it not installed already\n",
        "!pip3 install --upgrade h2o"
      ],
      "execution_count": 1,
      "outputs": [
        {
          "output_type": "stream",
          "text": [
            "Collecting h2o\n",
            "\u001b[?25l  Downloading https://files.pythonhosted.org/packages/75/4a/6fd8e7f60c8b5401852a73fc48bccf8a97e7a65d1d748bd1ecc7abcf3bd2/h2o-3.26.0.11.tar.gz (123.7MB)\n",
            "\u001b[K     |████████████████████████████████| 123.7MB 96kB/s \n",
            "\u001b[?25hRequirement already satisfied, skipping upgrade: requests in /usr/local/lib/python3.6/dist-packages (from h2o) (2.21.0)\n",
            "Requirement already satisfied, skipping upgrade: tabulate in /usr/local/lib/python3.6/dist-packages (from h2o) (0.8.6)\n",
            "Requirement already satisfied, skipping upgrade: future in /usr/local/lib/python3.6/dist-packages (from h2o) (0.16.0)\n",
            "Collecting colorama>=0.3.8\n",
            "  Downloading https://files.pythonhosted.org/packages/c9/dc/45cdef1b4d119eb96316b3117e6d5708a08029992b2fee2c143c7a0a5cc5/colorama-0.4.3-py2.py3-none-any.whl\n",
            "Requirement already satisfied, skipping upgrade: idna<2.9,>=2.5 in /usr/local/lib/python3.6/dist-packages (from requests->h2o) (2.8)\n",
            "Requirement already satisfied, skipping upgrade: chardet<3.1.0,>=3.0.2 in /usr/local/lib/python3.6/dist-packages (from requests->h2o) (3.0.4)\n",
            "Requirement already satisfied, skipping upgrade: certifi>=2017.4.17 in /usr/local/lib/python3.6/dist-packages (from requests->h2o) (2019.11.28)\n",
            "Requirement already satisfied, skipping upgrade: urllib3<1.25,>=1.21.1 in /usr/local/lib/python3.6/dist-packages (from requests->h2o) (1.24.3)\n",
            "Building wheels for collected packages: h2o\n",
            "  Building wheel for h2o (setup.py) ... \u001b[?25l\u001b[?25hdone\n",
            "  Created wheel for h2o: filename=h2o-3.26.0.11-py2.py3-none-any.whl size=123721708 sha256=f4e24b2f686facae0e79062ca91c5f572204c32794c878508776efa8cc9fcaac\n",
            "  Stored in directory: /root/.cache/pip/wheels/71/e6/ed/fb9be80ae2eb0bef9deada74fc370b2532f578d8b00bc1a8fb\n",
            "Successfully built h2o\n",
            "Installing collected packages: colorama, h2o\n",
            "Successfully installed colorama-0.4.3 h2o-3.26.0.11\n"
          ],
          "name": "stdout"
        }
      ]
    },
    {
      "cell_type": "code",
      "metadata": {
        "id": "-q0tYVfyDJUC",
        "colab_type": "code",
        "colab": {}
      },
      "source": [
        "from google.colab import files\n",
        "\n",
        "import os\n",
        "import numpy as np\n",
        "import pandas as pd\n",
        "import seaborn as sns\n",
        "import statsmodels.api as sm\n",
        "from statsmodels.stats.outliers_influence import variance_inflation_factor\n",
        "\n",
        "import h2o\n",
        "from h2o.estimators.glm import H2OGeneralizedLinearEstimator\n",
        "from h2o.automl import H2OAutoML"
      ],
      "execution_count": 0,
      "outputs": []
    },
    {
      "cell_type": "code",
      "metadata": {
        "id": "WkBP-hzIEH_I",
        "colab_type": "code",
        "colab": {}
      },
      "source": [
        "# Configure some general settings for graphs\n",
        "sns.set(style=\"whitegrid\")\n",
        "sns.set(rc={'figure.figsize':(11.7,8.27)})"
      ],
      "execution_count": 0,
      "outputs": []
    },
    {
      "cell_type": "code",
      "metadata": {
        "id": "TD5n7G74Gecj",
        "colab_type": "code",
        "outputId": "b66c73d5-9577-45c4-b77d-4cc9436a71ab",
        "colab": {
          "resources": {
            "http://localhost:8080/nbextensions/google.colab/files.js": {
              "data": "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",
              "ok": true,
              "headers": [
                [
                  "content-type",
                  "application/javascript"
                ]
              ],
              "status": 200,
              "status_text": ""
            }
          },
          "base_uri": "https://localhost:8080/",
          "height": 88
        }
      },
      "source": [
        "# Upload the data (code snippet provided by Google Colab)\n",
        "uploaded = files.upload()\n",
        "\n",
        "for fn in uploaded.keys():\n",
        "  print('Uploaded file \"{name}\" from local file system with length {length} bytes'.format(\n",
        "      name=fn, length=len(uploaded[fn])))"
      ],
      "execution_count": 5,
      "outputs": [
        {
          "output_type": "display_data",
          "data": {
            "text/html": [
              "\n",
              "     <input type=\"file\" id=\"files-92332352-cfdd-4f49-8f3c-1fc57d9aed7c\" name=\"files[]\" multiple disabled />\n",
              "     <output id=\"result-92332352-cfdd-4f49-8f3c-1fc57d9aed7c\">\n",
              "      Upload widget is only available when the cell has been executed in the\n",
              "      current browser session. Please rerun this cell to enable.\n",
              "      </output>\n",
              "      <script src=\"/nbextensions/google.colab/files.js\"></script> "
            ],
            "text/plain": [
              "<IPython.core.display.HTML object>"
            ]
          },
          "metadata": {
            "tags": []
          }
        },
        {
          "output_type": "stream",
          "text": [
            "Saving promotional_sales.csv to promotional_sales.csv\n",
            "Uploaded file \"promotional_sales.csv\" from local file system with length 1444095 bytes\n"
          ],
          "name": "stdout"
        }
      ]
    },
    {
      "cell_type": "code",
      "metadata": {
        "id": "NKlbOd8ilhAt",
        "colab_type": "code",
        "colab": {}
      },
      "source": [
        "# Load the data into a Pandas dataframe\n",
        "raw_data = pd.read_csv(\"./promotional_sales.csv\")"
      ],
      "execution_count": 0,
      "outputs": []
    },
    {
      "cell_type": "markdown",
      "metadata": {
        "id": "EX3naRoyWrKg",
        "colab_type": "text"
      },
      "source": [
        "# (Some minimal) exploratory analysis\n",
        "\n",
        "Mostly looking at irrelevant variables (e.g., those with the same value for all rows), duplicate variables (e.g., those that are correlated) and noisy variables (e.g., those with too many missing, NaNs, values)  to figure out some of the following questions given the supplied information about the problem:\n",
        "\n",
        "* Is there some data correlating each other? (i.e., are there attributes depending on each other?)\n",
        "* Could we infer some categorical data from the attributes (i.e., is the range of values for some attribute limited enough to assume some sort of encoding?)\n",
        "* How balanced (or imbalaced) is the data? (i.e., how many promotion buyers are in the dataset vs. those that are not promotion buyers?)"
      ]
    },
    {
      "cell_type": "code",
      "metadata": {
        "id": "Fjz7SxM6mC8d",
        "colab_type": "code",
        "outputId": "98a79a48-002a-41de-b4dc-d88624c5a174",
        "colab": {
          "base_uri": "https://localhost:8080/",
          "height": 238
        }
      },
      "source": [
        "# Let's take a quick look at the data\n",
        "raw_data.head()"
      ],
      "execution_count": 7,
      "outputs": [
        {
          "output_type": "execute_result",
          "data": {
            "text/html": [
              "<div>\n",
              "<style scoped>\n",
              "    .dataframe tbody tr th:only-of-type {\n",
              "        vertical-align: middle;\n",
              "    }\n",
              "\n",
              "    .dataframe tbody tr th {\n",
              "        vertical-align: top;\n",
              "    }\n",
              "\n",
              "    .dataframe thead th {\n",
              "        text-align: right;\n",
              "    }\n",
              "</style>\n",
              "<table border=\"1\" class=\"dataframe\">\n",
              "  <thead>\n",
              "    <tr style=\"text-align: right;\">\n",
              "      <th></th>\n",
              "      <th>Customer ID</th>\n",
              "      <th>Gender</th>\n",
              "      <th>Age</th>\n",
              "      <th>Country</th>\n",
              "      <th>Membership Reward Status</th>\n",
              "      <th>Neighborhood Type</th>\n",
              "      <th>Income Bracket</th>\n",
              "      <th>Sign-Up Bonus</th>\n",
              "      <th>Membership in Months</th>\n",
              "      <th>ID of Favorite Product</th>\n",
              "      <th>Total Spend</th>\n",
              "      <th>Promotion Purchase Count</th>\n",
              "      <th>Promotion Purchase Indicator</th>\n",
              "    </tr>\n",
              "  </thead>\n",
              "  <tbody>\n",
              "    <tr>\n",
              "      <th>0</th>\n",
              "      <td>140</td>\n",
              "      <td>M</td>\n",
              "      <td>76</td>\n",
              "      <td>DK</td>\n",
              "      <td>Gold</td>\n",
              "      <td>C</td>\n",
              "      <td>10</td>\n",
              "      <td>1</td>\n",
              "      <td>NaN</td>\n",
              "      <td>6d1645c536</td>\n",
              "      <td>16000.00</td>\n",
              "      <td>0</td>\n",
              "      <td>0</td>\n",
              "    </tr>\n",
              "    <tr>\n",
              "      <th>1</th>\n",
              "      <td>620</td>\n",
              "      <td>M</td>\n",
              "      <td>49</td>\n",
              "      <td>DK</td>\n",
              "      <td>Gold</td>\n",
              "      <td>D</td>\n",
              "      <td>4</td>\n",
              "      <td>1</td>\n",
              "      <td>NaN</td>\n",
              "      <td>f6923d15c6</td>\n",
              "      <td>6000.00</td>\n",
              "      <td>0</td>\n",
              "      <td>0</td>\n",
              "    </tr>\n",
              "    <tr>\n",
              "      <th>2</th>\n",
              "      <td>868</td>\n",
              "      <td>F</td>\n",
              "      <td>70</td>\n",
              "      <td>DK</td>\n",
              "      <td>Bronze</td>\n",
              "      <td>D</td>\n",
              "      <td>5</td>\n",
              "      <td>1</td>\n",
              "      <td>8.0</td>\n",
              "      <td>29fd49fbe8</td>\n",
              "      <td>0.02</td>\n",
              "      <td>1</td>\n",
              "      <td>1</td>\n",
              "    </tr>\n",
              "    <tr>\n",
              "      <th>3</th>\n",
              "      <td>1120</td>\n",
              "      <td>M</td>\n",
              "      <td>65</td>\n",
              "      <td>DK</td>\n",
              "      <td>None</td>\n",
              "      <td>F</td>\n",
              "      <td>10</td>\n",
              "      <td>1</td>\n",
              "      <td>NaN</td>\n",
              "      <td>6c0d6497c2</td>\n",
              "      <td>0.01</td>\n",
              "      <td>1</td>\n",
              "      <td>1</td>\n",
              "    </tr>\n",
              "    <tr>\n",
              "      <th>4</th>\n",
              "      <td>2313</td>\n",
              "      <td>F</td>\n",
              "      <td>68</td>\n",
              "      <td>DK</td>\n",
              "      <td>None</td>\n",
              "      <td>A</td>\n",
              "      <td>11</td>\n",
              "      <td>1</td>\n",
              "      <td>8.0</td>\n",
              "      <td>96b8e0c752</td>\n",
              "      <td>0.01</td>\n",
              "      <td>0</td>\n",
              "      <td>0</td>\n",
              "    </tr>\n",
              "  </tbody>\n",
              "</table>\n",
              "</div>"
            ],
            "text/plain": [
              "   Customer ID Gender  ...  Promotion Purchase Count Promotion Purchase Indicator\n",
              "0          140      M  ...                         0                            0\n",
              "1          620      M  ...                         0                            0\n",
              "2          868      F  ...                         1                            1\n",
              "3         1120      M  ...                         1                            1\n",
              "4         2313      F  ...                         0                            0\n",
              "\n",
              "[5 rows x 13 columns]"
            ]
          },
          "metadata": {
            "tags": []
          },
          "execution_count": 7
        }
      ]
    },
    {
      "cell_type": "code",
      "metadata": {
        "id": "RVaPT6TwYi1O",
        "colab_type": "code",
        "colab": {}
      },
      "source": [
        "# Convert attribute 'Customer ID' into a string as it is an ID but it may be interpreted as integer\n",
        "raw_data['Customer ID'] = raw_data['Customer ID'].astype(str)"
      ],
      "execution_count": 0,
      "outputs": []
    },
    {
      "cell_type": "code",
      "metadata": {
        "id": "lDbpBAx3mGBE",
        "colab_type": "code",
        "outputId": "07d1ffe9-004a-41ab-ab77-8a1a50d6c5d1",
        "colab": {
          "base_uri": "https://localhost:8080/",
          "height": 297
        }
      },
      "source": [
        "# And more precisely to some standard metrics on each column \n",
        "raw_data.describe()"
      ],
      "execution_count": 9,
      "outputs": [
        {
          "output_type": "execute_result",
          "data": {
            "text/html": [
              "<div>\n",
              "<style scoped>\n",
              "    .dataframe tbody tr th:only-of-type {\n",
              "        vertical-align: middle;\n",
              "    }\n",
              "\n",
              "    .dataframe tbody tr th {\n",
              "        vertical-align: top;\n",
              "    }\n",
              "\n",
              "    .dataframe thead th {\n",
              "        text-align: right;\n",
              "    }\n",
              "</style>\n",
              "<table border=\"1\" class=\"dataframe\">\n",
              "  <thead>\n",
              "    <tr style=\"text-align: right;\">\n",
              "      <th></th>\n",
              "      <th>Age</th>\n",
              "      <th>Sign-Up Bonus</th>\n",
              "      <th>Membership in Months</th>\n",
              "      <th>Total Spend</th>\n",
              "      <th>Promotion Purchase Count</th>\n",
              "      <th>Promotion Purchase Indicator</th>\n",
              "    </tr>\n",
              "  </thead>\n",
              "  <tbody>\n",
              "    <tr>\n",
              "      <th>count</th>\n",
              "      <td>22223.000000</td>\n",
              "      <td>22223.0</td>\n",
              "      <td>10074.000000</td>\n",
              "      <td>22223.000000</td>\n",
              "      <td>22223.000000</td>\n",
              "      <td>22223.000000</td>\n",
              "    </tr>\n",
              "    <tr>\n",
              "      <th>mean</th>\n",
              "      <td>50.078747</td>\n",
              "      <td>1.0</td>\n",
              "      <td>6.554497</td>\n",
              "      <td>4420.590039</td>\n",
              "      <td>0.294740</td>\n",
              "      <td>0.247716</td>\n",
              "    </tr>\n",
              "    <tr>\n",
              "      <th>std</th>\n",
              "      <td>18.775112</td>\n",
              "      <td>0.0</td>\n",
              "      <td>4.629107</td>\n",
              "      <td>7559.047497</td>\n",
              "      <td>0.562831</td>\n",
              "      <td>0.431696</td>\n",
              "    </tr>\n",
              "    <tr>\n",
              "      <th>min</th>\n",
              "      <td>-1.000000</td>\n",
              "      <td>1.0</td>\n",
              "      <td>0.000000</td>\n",
              "      <td>0.010000</td>\n",
              "      <td>0.000000</td>\n",
              "      <td>0.000000</td>\n",
              "    </tr>\n",
              "    <tr>\n",
              "      <th>25%</th>\n",
              "      <td>41.000000</td>\n",
              "      <td>1.0</td>\n",
              "      <td>4.000000</td>\n",
              "      <td>0.010000</td>\n",
              "      <td>0.000000</td>\n",
              "      <td>0.000000</td>\n",
              "    </tr>\n",
              "    <tr>\n",
              "      <th>50%</th>\n",
              "      <td>52.000000</td>\n",
              "      <td>1.0</td>\n",
              "      <td>5.000000</td>\n",
              "      <td>2000.000000</td>\n",
              "      <td>0.000000</td>\n",
              "      <td>0.000000</td>\n",
              "    </tr>\n",
              "    <tr>\n",
              "      <th>75%</th>\n",
              "      <td>63.000000</td>\n",
              "      <td>1.0</td>\n",
              "      <td>8.000000</td>\n",
              "      <td>6000.000000</td>\n",
              "      <td>0.000000</td>\n",
              "      <td>0.000000</td>\n",
              "    </tr>\n",
              "    <tr>\n",
              "      <th>max</th>\n",
              "      <td>79.000000</td>\n",
              "      <td>1.0</td>\n",
              "      <td>39.000000</td>\n",
              "      <td>296313.850000</td>\n",
              "      <td>3.000000</td>\n",
              "      <td>1.000000</td>\n",
              "    </tr>\n",
              "  </tbody>\n",
              "</table>\n",
              "</div>"
            ],
            "text/plain": [
              "                Age  ...  Promotion Purchase Indicator\n",
              "count  22223.000000  ...                  22223.000000\n",
              "mean      50.078747  ...                      0.247716\n",
              "std       18.775112  ...                      0.431696\n",
              "min       -1.000000  ...                      0.000000\n",
              "25%       41.000000  ...                      0.000000\n",
              "50%       52.000000  ...                      0.000000\n",
              "75%       63.000000  ...                      0.000000\n",
              "max       79.000000  ...                      1.000000\n",
              "\n",
              "[8 rows x 6 columns]"
            ]
          },
          "metadata": {
            "tags": []
          },
          "execution_count": 9
        }
      ]
    },
    {
      "cell_type": "markdown",
      "metadata": {
        "id": "-DWCmCs9X8US",
        "colab_type": "text"
      },
      "source": [
        "It seems that `Membership in Months` has quite some missing values (more than half rows have this attribute missing), `Promotion Purchase Count` and `Promotion Purchase Indicator` are likely to be the same or similar due to a very similar mean and close standard deviation (i.e., to be checked in a bit) and `Sign-Up Bonus` has the same value for all rows.\n",
        "\n",
        "Otherwise all other attributes seem numerical."
      ]
    },
    {
      "cell_type": "code",
      "metadata": {
        "id": "AdjjU52Pmx0l",
        "colab_type": "code",
        "outputId": "80d29560-f9b2-465a-f85a-3b9a718c690f",
        "colab": {
          "base_uri": "https://localhost:8080/",
          "height": 674
        }
      },
      "source": [
        "# Some variables can most likely be removed, so let's check for correlations\n",
        "sns.heatmap(data=raw_data[raw_data.columns].corr().abs(), annot=True, fmt='.2f')"
      ],
      "execution_count": 10,
      "outputs": [
        {
          "output_type": "execute_result",
          "data": {
            "text/plain": [
              "<matplotlib.axes._subplots.AxesSubplot at 0x7f9ec2b063c8>"
            ]
          },
          "metadata": {
            "tags": []
          },
          "execution_count": 10
        },
        {
          "output_type": "display_data",
          "data": {
            "image/png": "[encoded data removed]",
            "text/plain": [
              "<Figure size 842.4x595.44 with 2 Axes>"
            ]
          },
          "metadata": {
            "tags": []
          }
        }
      ]
    },
    {
      "cell_type": "markdown",
      "metadata": {
        "id": "wkVd5IasaDu6",
        "colab_type": "text"
      },
      "source": [
        "We can confirm the almost perfect correlation between `Promotion Purchase Count` and `Promotion Purchase Indicator` attributes, so one of them will be removed when running algorithms.\n",
        "\n",
        "Otherwise, the other attributes do not seem to be correlated. Attribute `Sign-Up Bonus` must be removed as it has the same value everywhere.\n",
        "\n"
      ]
    },
    {
      "cell_type": "code",
      "metadata": {
        "id": "M-zw191M4aXY",
        "colab_type": "code",
        "colab": {
          "base_uri": "https://localhost:8080/",
          "height": 51
        },
        "outputId": "496f49fe-2644-435c-e72c-0c3a0398b8e1"
      },
      "source": [
        "# And because I am wondering about multicollinearity, let's check for the VIF\n",
        "def calculate_vif_(X, threshold=5.0):\n",
        "    # Code snippet adapted from https://stats.stackexchange.com/a/253620\n",
        "    variables = list(range(X.shape[1]))\n",
        "    dropped = True\n",
        "    dropped_variables = []\n",
        "    while dropped:\n",
        "        dropped = False\n",
        "        vif = [variance_inflation_factor(X.iloc[:, variables].values, ix)\n",
        "               for ix in range(X.iloc[:, variables].shape[1])]\n",
        "\n",
        "        maxloc = vif.index(max(vif))\n",
        "        if max(vif) > threshold:\n",
        "            dropped_variables.append(X.iloc[:, variables].columns[maxloc])\n",
        "            del variables[maxloc]\n",
        "            dropped = True\n",
        "\n",
        "    res = X.iloc[:, variables]\n",
        "\n",
        "    print('Variables to drop: {}'.format(dropped_variables))\n",
        "    print('Variables (numeric) to keep: {}'.format(res.columns.values.tolist()))\n",
        "    \n",
        "    return res\n",
        "\n",
        "calculate_vif_(raw_data.dropna()._get_numeric_data());"
      ],
      "execution_count": 11,
      "outputs": [
        {
          "output_type": "stream",
          "text": [
            "Variables to drop: ['Sign-Up Bonus', 'Promotion Purchase Indicator']\n",
            "Variables (numeric) to keep: ['Age', 'Membership in Months', 'Total Spend', 'Promotion Purchase Count']\n"
          ],
          "name": "stdout"
        }
      ]
    },
    {
      "cell_type": "markdown",
      "metadata": {
        "id": "W4Rk2NgbaeC5",
        "colab_type": "text"
      },
      "source": [
        "The variance inflation factor (VIF) we see easily what attributes to drop that the heatmap pointed already: `Sign-Up Bonus` and `Promotion Purchase Indicator`."
      ]
    },
    {
      "cell_type": "code",
      "metadata": {
        "id": "bmOsoU7L5TiD",
        "colab_type": "code",
        "colab": {
          "base_uri": "https://localhost:8080/",
          "height": 568
        },
        "outputId": "bd8cb5fe-4b71-4115-a6e2-9f17601d6969"
      },
      "source": [
        "# Now let's check whether we have an imbalaced dataset or not...\n",
        "sns.countplot(y='Promotion Purchase Indicator', data=raw_data)\n",
        "print(raw_data['Promotion Purchase Indicator'].value_counts())"
      ],
      "execution_count": 12,
      "outputs": [
        {
          "output_type": "stream",
          "text": [
            "0    16718\n",
            "1     5505\n",
            "Name: Promotion Purchase Indicator, dtype: int64\n"
          ],
          "name": "stdout"
        },
        {
          "output_type": "display_data",
          "data": {
            "image/png": "[encoded data removed]",
            "text/plain": [
              "<Figure size 842.4x595.44 with 1 Axes>"
            ]
          },
          "metadata": {
            "tags": []
          }
        }
      ]
    },
    {
      "cell_type": "markdown",
      "metadata": {
        "id": "JZLAr__Ia6xD",
        "colab_type": "text"
      },
      "source": [
        "We do clearly have a somewhat imbalanced data set. With a ratio of one to three in the target attribute `Promotion Purchase Indicator`.\n",
        "\n",
        "As the rows are unique (i.e., each row represent a unique customer) this means that there is one customer that acquires something in promotion out of every any random three customers.\n",
        "\n"
      ]
    },
    {
      "cell_type": "markdown",
      "metadata": {
        "id": "pmjXbMXecwp-",
        "colab_type": "text"
      },
      "source": [
        "## **(Some) machine learning¶**\n",
        "\n",
        "In order to do some prediction we are going to leverage on machine learning algorithms. I will try one of them and possibly explore the AutoML feature of the framework H2O.\n",
        "\n",
        "There is a catch with this dataset though because it is imbalanced. A typical solution to the imbalance problem is to even the classes to classify by resampling (e.g., 50% for target's value 0 and another 50% for target's value 1) at the cost of losing information (if downsampling) or duplicating entries and possibly overfitting (if upsampling).\n",
        "\n",
        "Another typical solution could be to aggregate attributes (features) but every row represents a unique customer, hence the aggregation implies losing information (else we could try to aggregate similar customers, i.e., clustering). Another option, should the results are not good enough, could be deriving new features from the current ones."
      ]
    },
    {
      "cell_type": "code",
      "metadata": {
        "id": "n0484ZmxkCZi",
        "colab_type": "code",
        "outputId": "421a38f8-b8d2-4af5-8815-66eb75f16fa9",
        "colab": {
          "base_uri": "https://localhost:8080/",
          "height": 528
        }
      },
      "source": [
        "# Initialise the H2O 'cluster' (Java is needed, otherwise this will fail)\n",
        "h2o.init(ip=\"localhost\", port=54323)\n",
        "# Clean the cluster in case it was already running\n",
        "h2o.remove_all()"
      ],
      "execution_count": 13,
      "outputs": [
        {
          "output_type": "stream",
          "text": [
            "Checking whether there is an H2O instance running at http://localhost:54323 ..... not found.\n",
            "Attempting to start a local H2O server...\n",
            "  Java Version: openjdk version \"11.0.4\" 2019-07-16; OpenJDK Runtime Environment (build 11.0.4+11-post-Ubuntu-1ubuntu218.04.3); OpenJDK 64-Bit Server VM (build 11.0.4+11-post-Ubuntu-1ubuntu218.04.3, mixed mode, sharing)\n",
            "  Starting server from /usr/local/lib/python3.6/dist-packages/h2o/backend/bin/h2o.jar\n",
            "  Ice root: /tmp/tmpjztt0t4i\n",
            "  JVM stdout: /tmp/tmpjztt0t4i/h2o_unknownUser_started_from_python.out\n",
            "  JVM stderr: /tmp/tmpjztt0t4i/h2o_unknownUser_started_from_python.err\n",
            "  Server is running at http://127.0.0.1:54323\n",
            "Connecting to H2O server at http://127.0.0.1:54323 ... successful.\n"
          ],
          "name": "stdout"
        },
        {
          "output_type": "display_data",
          "data": {
            "text/html": [
              "<div style=\"overflow:auto\"><table style=\"width:50%\"><tr><td>H2O cluster uptime:</td>\n",
              "<td>02 secs</td></tr>\n",
              "<tr><td>H2O cluster timezone:</td>\n",
              "<td>Etc/UTC</td></tr>\n",
              "<tr><td>H2O data parsing timezone:</td>\n",
              "<td>UTC</td></tr>\n",
              "<tr><td>H2O cluster version:</td>\n",
              "<td>3.26.0.11</td></tr>\n",
              "<tr><td>H2O cluster version age:</td>\n",
              "<td>6 days </td></tr>\n",
              "<tr><td>H2O cluster name:</td>\n",
              "<td>H2O_from_python_unknownUser_ce0sj6</td></tr>\n",
              "<tr><td>H2O cluster total nodes:</td>\n",
              "<td>1</td></tr>\n",
              "<tr><td>H2O cluster free memory:</td>\n",
              "<td>2.938 Gb</td></tr>\n",
              "<tr><td>H2O cluster total cores:</td>\n",
              "<td>2</td></tr>\n",
              "<tr><td>H2O cluster allowed cores:</td>\n",
              "<td>2</td></tr>\n",
              "<tr><td>H2O cluster status:</td>\n",
              "<td>accepting new members, healthy</td></tr>\n",
              "<tr><td>H2O connection url:</td>\n",
              "<td>http://127.0.0.1:54323</td></tr>\n",
              "<tr><td>H2O connection proxy:</td>\n",
              "<td>{'http': None, 'https': None}</td></tr>\n",
              "<tr><td>H2O internal security:</td>\n",
              "<td>False</td></tr>\n",
              "<tr><td>H2O API Extensions:</td>\n",
              "<td>Amazon S3, XGBoost, Algos, AutoML, Core V3, TargetEncoder, Core V4</td></tr>\n",
              "<tr><td>Python version:</td>\n",
              "<td>3.6.9 final</td></tr></table></div>"
            ],
            "text/plain": [
              "--------------------------  ------------------------------------------------------------------\n",
              "H2O cluster uptime:         02 secs\n",
              "H2O cluster timezone:       Etc/UTC\n",
              "H2O data parsing timezone:  UTC\n",
              "H2O cluster version:        3.26.0.11\n",
              "H2O cluster version age:    6 days\n",
              "H2O cluster name:           H2O_from_python_unknownUser_ce0sj6\n",
              "H2O cluster total nodes:    1\n",
              "H2O cluster free memory:    2.938 Gb\n",
              "H2O cluster total cores:    2\n",
              "H2O cluster allowed cores:  2\n",
              "H2O cluster status:         accepting new members, healthy\n",
              "H2O connection url:         http://127.0.0.1:54323\n",
              "H2O connection proxy:       {'http': None, 'https': None}\n",
              "H2O internal security:      False\n",
              "H2O API Extensions:         Amazon S3, XGBoost, Algos, AutoML, Core V3, TargetEncoder, Core V4\n",
              "Python version:             3.6.9 final\n",
              "--------------------------  ------------------------------------------------------------------"
            ]
          },
          "metadata": {
            "tags": []
          }
        }
      ]
    },
    {
      "cell_type": "code",
      "metadata": {
        "id": "V0h20aGiilgO",
        "colab_type": "code",
        "outputId": "6ef78923-edb5-48f0-eb59-aaf11672eec5",
        "colab": {
          "base_uri": "https://localhost:8080/",
          "height": 536
        }
      },
      "source": [
        "# Load the data into a H2OFrame\n",
        "data = h2o.import_file(os.path.realpath(\"./promotional_sales.csv\"))\n",
        "data.describe()"
      ],
      "execution_count": 14,
      "outputs": [
        {
          "output_type": "stream",
          "text": [
            "Parse progress: |█████████████████████████████████████████████████████████| 100%\n",
            "Rows:22223\n",
            "Cols:13\n",
            "\n",
            "\n"
          ],
          "name": "stdout"
        },
        {
          "output_type": "display_data",
          "data": {
            "text/html": [
              "<table>\n",
              "<thead>\n",
              "<tr><th>       </th><th>Customer ID       </th><th>Gender  </th><th>Age               </th><th>Country  </th><th>Membership Reward Status  </th><th>Neighborhood Type  </th><th>Income Bracket    </th><th>Sign-Up Bonus  </th><th>Membership in Months  </th><th>ID of Favorite Product  </th><th>Total Spend      </th><th>Promotion Purchase Count  </th><th>Promotion Purchase Indicator  </th></tr>\n",
              "</thead>\n",
              "<tbody>\n",
              "<tr><td>type   </td><td>int               </td><td>enum    </td><td>int               </td><td>enum     </td><td>enum                      </td><td>enum               </td><td>int               </td><td>int            </td><td>int                   </td><td>enum                    </td><td>real             </td><td>int                       </td><td>int                           </td></tr>\n",
              "<tr><td>mins   </td><td>140.0             </td><td>        </td><td>-1.0              </td><td>         </td><td>                          </td><td>                   </td><td>0.0               </td><td>1.0            </td><td>0.0                   </td><td>                        </td><td>0.01             </td><td>0.0                       </td><td>0.0                           </td></tr>\n",
              "<tr><td>mean   </td><td>26055403.439859618</td><td>        </td><td>50.078747243846486</td><td>         </td><td>                          </td><td>                   </td><td>8.286549970751022 </td><td>1.0            </td><td>6.5544967242406225    </td><td>                        </td><td>4420.590039148629</td><td>0.2947396841110562        </td><td>0.2477163299284525            </td></tr>\n",
              "<tr><td>maxs   </td><td>52856469.0        </td><td>        </td><td>79.0              </td><td>         </td><td>                          </td><td>                   </td><td>34.0              </td><td>1.0            </td><td>39.0                  </td><td>                        </td><td>296313.85        </td><td>3.0                       </td><td>1.0                           </td></tr>\n",
              "<tr><td>sigma  </td><td>15074974.057352416</td><td>        </td><td>18.775111815986183</td><td>         </td><td>                          </td><td>                   </td><td>3.8285013797319873</td><td>0.0            </td><td>4.62910673209617      </td><td>                        </td><td>7559.047497144183</td><td>0.5628309212318786        </td><td>0.4316958834432313            </td></tr>\n",
              "<tr><td>zeros  </td><td>0                 </td><td>        </td><td>0                 </td><td>         </td><td>                          </td><td>                   </td><td>1091              </td><td>0              </td><td>18                    </td><td>                        </td><td>0                </td><td>16718                     </td><td>16718                         </td></tr>\n",
              "<tr><td>missing</td><td>0                 </td><td>0       </td><td>0                 </td><td>0        </td><td>0                         </td><td>0                  </td><td>0                 </td><td>0              </td><td>12149                 </td><td>0                       </td><td>0                </td><td>0                         </td><td>0                             </td></tr>\n",
              "<tr><td>0      </td><td>140.0             </td><td>M       </td><td>76.0              </td><td>DK       </td><td>Gold                      </td><td>C                  </td><td>10.0              </td><td>1.0            </td><td>nan                   </td><td>6d1645c536              </td><td>16000.0          </td><td>0.0                       </td><td>0.0                           </td></tr>\n",
              "<tr><td>1      </td><td>620.0             </td><td>M       </td><td>49.0              </td><td>DK       </td><td>Gold                      </td><td>D                  </td><td>4.0               </td><td>1.0            </td><td>nan                   </td><td>f6923d15c6              </td><td>6000.0           </td><td>0.0                       </td><td>0.0                           </td></tr>\n",
              "<tr><td>2      </td><td>868.0             </td><td>F       </td><td>70.0              </td><td>DK       </td><td>Bronze                    </td><td>D                  </td><td>5.0               </td><td>1.0            </td><td>8.0                   </td><td>29fd49fbe8              </td><td>0.02             </td><td>1.0                       </td><td>1.0                           </td></tr>\n",
              "<tr><td>3      </td><td>1120.0            </td><td>M       </td><td>65.0              </td><td>DK       </td><td>None                      </td><td>F                  </td><td>10.0              </td><td>1.0            </td><td>nan                   </td><td>6c0d6497c2              </td><td>0.01             </td><td>1.0                       </td><td>1.0                           </td></tr>\n",
              "<tr><td>4      </td><td>2313.0            </td><td>F       </td><td>68.0              </td><td>DK       </td><td>None                      </td><td>A                  </td><td>11.0              </td><td>1.0            </td><td>8.0                   </td><td>96b8e0c752              </td><td>0.01             </td><td>0.0                       </td><td>0.0                           </td></tr>\n",
              "<tr><td>5      </td><td>2771.0            </td><td>M       </td><td>72.0              </td><td>FI       </td><td>Silver                    </td><td>D                  </td><td>9.0               </td><td>1.0            </td><td>nan                   </td><td>0876c150cc              </td><td>20759.81         </td><td>0.0                       </td><td>0.0                           </td></tr>\n",
              "<tr><td>6      </td><td>3131.0            </td><td>F       </td><td>74.0              </td><td>DK       </td><td>None                      </td><td>A                  </td><td>11.0              </td><td>1.0            </td><td>8.0                   </td><td>08c4d3d0a3              </td><td>0.01             </td><td>0.0                       </td><td>0.0                           </td></tr>\n",
              "<tr><td>7      </td><td>3328.0            </td><td>M       </td><td>62.0              </td><td>FI       </td><td>None                      </td><td>D                  </td><td>13.0              </td><td>1.0            </td><td>nan                   </td><td>2ab7ffe22c              </td><td>0.01             </td><td>0.0                       </td><td>0.0                           </td></tr>\n",
              "<tr><td>8      </td><td>4529.0            </td><td>M       </td><td>62.0              </td><td>DK       </td><td>Bronze                    </td><td>F                  </td><td>10.0              </td><td>1.0            </td><td>nan                   </td><td>ab68c67d6d              </td><td>2038.76          </td><td>0.0                       </td><td>0.0                           </td></tr>\n",
              "<tr><td>9      </td><td>5886.0            </td><td>F       </td><td>43.0              </td><td>NA       </td><td>Gold                      </td><td>F                  </td><td>14.0              </td><td>1.0            </td><td>nan                   </td><td>02f2f6ab8b              </td><td>6000.0           </td><td>1.0                       </td><td>1.0                           </td></tr>\n",
              "</tbody>\n",
              "</table>"
            ]
          },
          "metadata": {
            "tags": []
          }
        }
      ]
    },
    {
      "cell_type": "code",
      "metadata": {
        "id": "tIF8Guo-AopT",
        "colab_type": "code",
        "colab": {}
      },
      "source": [
        "# Configure the predictors (features) and the response (target)\n",
        "predictors = list(set(data.col_names))\n",
        "response = 'Promotion Purchase Indicator'\n",
        "# Remove the target and some attributes mentioned above\n",
        "predictors.remove(response)\n",
        "predictors.remove('Promotion Purchase Count')\n",
        "predictors.remove('Customer ID')\n",
        "predictors.remove('Sign-Up Bonus')"
      ],
      "execution_count": 0,
      "outputs": []
    },
    {
      "cell_type": "code",
      "metadata": {
        "id": "AFABhpakAqAa",
        "colab_type": "code",
        "colab": {}
      },
      "source": [
        "# As we are on a classification problem... the response should be of a categorical kind.\n",
        "data[response] = data[response].asfactor()\n",
        "# And the same for some other attributes\n",
        "data['Income Bracket'] = data['Income Bracket'].asfactor()"
      ],
      "execution_count": 0,
      "outputs": []
    },
    {
      "cell_type": "code",
      "metadata": {
        "id": "-WAe406AAq1t",
        "colab_type": "code",
        "colab": {}
      },
      "source": [
        "# And we also do some train/test/validation split\n",
        "trn_h2o, tst_h2o, vld_h2o = data.split_frame([0.7, 0.15], seed=1234)"
      ],
      "execution_count": 0,
      "outputs": []
    },
    {
      "cell_type": "code",
      "metadata": {
        "id": "9st3se8VAzCZ",
        "colab_type": "code",
        "colab": {
          "base_uri": "https://localhost:8080/",
          "height": 34
        },
        "outputId": "ef7d8566-6fb1-4759-89a8-20c855e92987"
      },
      "source": [
        "# We try logistic regression (a generalized linear model) with our probability distribution as binomial (or Bernoulli if you prefer)\n",
        "glm_bi_v1 = H2OGeneralizedLinearEstimator(\n",
        "                    model_id='glm_v1',\n",
        "                    family='binomial',\n",
        "                    solver='L_BFGS',\n",
        "                    nfolds=25,\n",
        "                    lambda_=0.00001, # This value is just a guess...\n",
        "                    balance_classes=True) # This does not matter much according to the official documentation.\n",
        "glm_bi_v1.train(predictors, response, training_frame=trn_h2o, validation_frame=vld_h2o)"
      ],
      "execution_count": 18,
      "outputs": [
        {
          "output_type": "stream",
          "text": [
            "glm Model Build progress: |███████████████████████████████████████████████| 100%\n"
          ],
          "name": "stdout"
        }
      ]
    },
    {
      "cell_type": "code",
      "metadata": {
        "id": "g-_KntI2Azc3",
        "colab_type": "code",
        "colab": {
          "base_uri": "https://localhost:8080/",
          "height": 176
        },
        "outputId": "15155b80-40a1-4b35-f2c3-180a3a40fb85"
      },
      "source": [
        "# Show the confussion matrix\n",
        "glm_bi_v1.confusion_matrix(valid=True)"
      ],
      "execution_count": 19,
      "outputs": [
        {
          "output_type": "stream",
          "text": [
            "\n",
            "Confusion Matrix (Act/Pred) for max f1 @ threshold = 0.17826710047385128: \n"
          ],
          "name": "stdout"
        },
        {
          "output_type": "display_data",
          "data": {
            "text/html": [
              "<div>\n",
              "<style scoped>\n",
              "    .dataframe tbody tr th:only-of-type {\n",
              "        vertical-align: middle;\n",
              "    }\n",
              "\n",
              "    .dataframe tbody tr th {\n",
              "        vertical-align: top;\n",
              "    }\n",
              "\n",
              "    .dataframe thead th {\n",
              "        text-align: right;\n",
              "    }\n",
              "</style>\n",
              "<table border=\"1\" class=\"dataframe\">\n",
              "  <thead>\n",
              "    <tr style=\"text-align: right;\">\n",
              "      <th></th>\n",
              "      <th></th>\n",
              "      <th>0</th>\n",
              "      <th>1</th>\n",
              "      <th>Error</th>\n",
              "      <th>Rate</th>\n",
              "    </tr>\n",
              "  </thead>\n",
              "  <tbody>\n",
              "    <tr>\n",
              "      <th>0</th>\n",
              "      <td>0</td>\n",
              "      <td>1581.0</td>\n",
              "      <td>898.0</td>\n",
              "      <td>0.3622</td>\n",
              "      <td>(898.0/2479.0)</td>\n",
              "    </tr>\n",
              "    <tr>\n",
              "      <th>1</th>\n",
              "      <td>1</td>\n",
              "      <td>223.0</td>\n",
              "      <td>583.0</td>\n",
              "      <td>0.2767</td>\n",
              "      <td>(223.0/806.0)</td>\n",
              "    </tr>\n",
              "    <tr>\n",
              "      <th>2</th>\n",
              "      <td>Total</td>\n",
              "      <td>1804.0</td>\n",
              "      <td>1481.0</td>\n",
              "      <td>0.3412</td>\n",
              "      <td>(1121.0/3285.0)</td>\n",
              "    </tr>\n",
              "  </tbody>\n",
              "</table>\n",
              "</div>"
            ],
            "text/plain": [
              "               0       1   Error              Rate\n",
              "0      0  1581.0   898.0  0.3622    (898.0/2479.0)\n",
              "1      1   223.0   583.0  0.2767     (223.0/806.0)\n",
              "2  Total  1804.0  1481.0  0.3412   (1121.0/3285.0)"
            ]
          },
          "metadata": {
            "tags": []
          }
        },
        {
          "output_type": "execute_result",
          "data": {
            "text/plain": [
              ""
            ]
          },
          "metadata": {
            "tags": []
          },
          "execution_count": 19
        }
      ]
    },
    {
      "cell_type": "code",
      "metadata": {
        "id": "aaz6MFo4Azfr",
        "colab_type": "code",
        "colab": {
          "base_uri": "https://localhost:8080/",
          "height": 34
        },
        "outputId": "783cfaf0-1902-4b9b-f51f-ee0ffea6aad9"
      },
      "source": [
        "# Show the accuracy\n",
        "glm_bi_v1.accuracy(valid=True)"
      ],
      "execution_count": 20,
      "outputs": [
        {
          "output_type": "execute_result",
          "data": {
            "text/plain": [
              "[[0.700568901439802, 0.7753424657534247]]"
            ]
          },
          "metadata": {
            "tags": []
          },
          "execution_count": 20
        }
      ]
    },
    {
      "cell_type": "code",
      "metadata": {
        "id": "BUrfIT600Q9N",
        "colab_type": "code",
        "colab": {
          "base_uri": "https://localhost:8080/",
          "height": 34
        },
        "outputId": "a52533ac-4f1a-40bb-caa4-add944a02dfd"
      },
      "source": [
        "# Try again logistic regression with lambda search: http://docs.h2o.ai/h2o/latest-stable/h2o-docs/data-science/algo-params/lambda_search.html\n",
        "glm_bi_search_v1 = H2OGeneralizedLinearEstimator(\n",
        "                        model_id='glm_v1_1',            \n",
        "                        family='binomial',\n",
        "                        solver='L_BFGS',\n",
        "                        nfolds=25,\n",
        "                        lambda_search=True,\n",
        "                        balance_classes=True) # This does not matter much according to the official documentation.\n",
        "glm_bi_search_v1.train(predictors, response, training_frame=trn_h2o, validation_frame=vld_h2o)"
      ],
      "execution_count": 21,
      "outputs": [
        {
          "output_type": "stream",
          "text": [
            "glm Model Build progress: |███████████████████████████████████████████████| 100%\n"
          ],
          "name": "stdout"
        }
      ]
    },
    {
      "cell_type": "code",
      "metadata": {
        "id": "aMzlk2Xo0Q6_",
        "colab_type": "code",
        "colab": {
          "base_uri": "https://localhost:8080/",
          "height": 176
        },
        "outputId": "7e3e083a-819e-4b63-deee-d1abad318519"
      },
      "source": [
        "# Show the confussion matrix\n",
        "glm_bi_search_v1.confusion_matrix(valid=True)"
      ],
      "execution_count": 22,
      "outputs": [
        {
          "output_type": "stream",
          "text": [
            "\n",
            "Confusion Matrix (Act/Pred) for max f1 @ threshold = 0.26063005389730504: \n"
          ],
          "name": "stdout"
        },
        {
          "output_type": "display_data",
          "data": {
            "text/html": [
              "<div>\n",
              "<style scoped>\n",
              "    .dataframe tbody tr th:only-of-type {\n",
              "        vertical-align: middle;\n",
              "    }\n",
              "\n",
              "    .dataframe tbody tr th {\n",
              "        vertical-align: top;\n",
              "    }\n",
              "\n",
              "    .dataframe thead th {\n",
              "        text-align: right;\n",
              "    }\n",
              "</style>\n",
              "<table border=\"1\" class=\"dataframe\">\n",
              "  <thead>\n",
              "    <tr style=\"text-align: right;\">\n",
              "      <th></th>\n",
              "      <th></th>\n",
              "      <th>0</th>\n",
              "      <th>1</th>\n",
              "      <th>Error</th>\n",
              "      <th>Rate</th>\n",
              "    </tr>\n",
              "  </thead>\n",
              "  <tbody>\n",
              "    <tr>\n",
              "      <th>0</th>\n",
              "      <td>0</td>\n",
              "      <td>1814.0</td>\n",
              "      <td>665.0</td>\n",
              "      <td>0.2683</td>\n",
              "      <td>(665.0/2479.0)</td>\n",
              "    </tr>\n",
              "    <tr>\n",
              "      <th>1</th>\n",
              "      <td>1</td>\n",
              "      <td>238.0</td>\n",
              "      <td>568.0</td>\n",
              "      <td>0.2953</td>\n",
              "      <td>(238.0/806.0)</td>\n",
              "    </tr>\n",
              "    <tr>\n",
              "      <th>2</th>\n",
              "      <td>Total</td>\n",
              "      <td>2052.0</td>\n",
              "      <td>1233.0</td>\n",
              "      <td>0.2749</td>\n",
              "      <td>(903.0/3285.0)</td>\n",
              "    </tr>\n",
              "  </tbody>\n",
              "</table>\n",
              "</div>"
            ],
            "text/plain": [
              "               0       1   Error             Rate\n",
              "0      0  1814.0   665.0  0.2683   (665.0/2479.0)\n",
              "1      1   238.0   568.0  0.2953    (238.0/806.0)\n",
              "2  Total  2052.0  1233.0  0.2749   (903.0/3285.0)"
            ]
          },
          "metadata": {
            "tags": []
          }
        },
        {
          "output_type": "execute_result",
          "data": {
            "text/plain": [
              ""
            ]
          },
          "metadata": {
            "tags": []
          },
          "execution_count": 22
        }
      ]
    },
    {
      "cell_type": "code",
      "metadata": {
        "id": "2OnkQ0tU0Q4S",
        "colab_type": "code",
        "colab": {
          "base_uri": "https://localhost:8080/",
          "height": 34
        },
        "outputId": "074e925a-0c43-4eeb-f5dc-a8aeb566c2bd"
      },
      "source": [
        "# Show the accuracy\n",
        "glm_bi_search_v1.accuracy(valid=True)"
      ],
      "execution_count": 23,
      "outputs": [
        {
          "output_type": "execute_result",
          "data": {
            "text/plain": [
              "[[0.5248200398699455, 0.7917808219178082]]"
            ]
          },
          "metadata": {
            "tags": []
          },
          "execution_count": 23
        }
      ]
    },
    {
      "cell_type": "code",
      "metadata": {
        "id": "L2GvOuWjAzkj",
        "colab_type": "code",
        "colab": {}
      },
      "source": [
        "# We are going to try adding some features by bucketizing current ones\n",
        "# Credits: https://github.com/h2oai/h2o-tutorials/blob/58491416bcb1d93c87df63eee60c76d63c7160be/tutorials/glm/glm_h2oworld_demo.py#L220-L244\n",
        "def cut_column(train_df, train, valid, test, col):\n",
        "    '''\n",
        "    Convenience function to change a column from numerical to categorical\n",
        "    We use train_df only for bucketing with histograms.\n",
        "    Uses np.histogram to generate a histogram, with the buckets forming the categories of our new categorical.\n",
        "    Picks buckets based on training data, then applies the same classification to the test and validation sets\n",
        "    \n",
        "    Assumes that train, valid, test will have the same histogram behavior.\n",
        "    '''\n",
        "    only_col = train_df[col]                            # Isolate the column in question from the training frame\n",
        "    counts, breaks = np.histogram(only_col, bins=20)   # Generate counts and breaks for our histogram\n",
        "    min_val = min(only_col)-1                          # Establish min and max values\n",
        "    max_val = max(only_col)+1\n",
        "    \n",
        "    new_b = [min_val]                                  # Redefine breaks such that each bucket has enough support\n",
        "    for i in range(19):\n",
        "        if counts[i] > 1000 and counts[i+1] > 1000:\n",
        "            new_b.append(breaks[i+1])\n",
        "    new_b.append(max_val)\n",
        "    \n",
        "    names = [col + '_' + str(x) for x in range(len(new_b)-1)]  #Generate names for buckets, these will be categorical names\n",
        "\n",
        "    train[col+\"_cut\"] = train[col].cut(breaks=new_b, labels=names)\n",
        "    valid[col+\"_cut\"] = valid[col].cut(breaks=new_b, labels=names)\n",
        "    test[col+\"_cut\"] = test[col].cut(breaks=new_b, labels=names)"
      ],
      "execution_count": 0,
      "outputs": []
    },
    {
      "cell_type": "code",
      "metadata": {
        "id": "h_ljyqDuAzir",
        "colab_type": "code",
        "colab": {}
      },
      "source": [
        "# Convert the train dataset into a data frame\n",
        "trn_h2o_df = trn_h2o.as_data_frame(True)"
      ],
      "execution_count": 0,
      "outputs": []
    },
    {
      "cell_type": "code",
      "metadata": {
        "id": "j0f7nSWUHyDO",
        "colab_type": "code",
        "colab": {}
      },
      "source": [
        "# Make a couple of attributes categoricals\n",
        "cut_column(trn_h2o_df, trn_h2o, vld_h2o, tst_h2o, \"Age\")\n",
        "# cut_column(trn_h2o_df, trn_h2o, vld_h2o, tst_h2o, \"Membership in Months\")\n",
        "cut_column(trn_h2o_df, trn_h2o, vld_h2o, tst_h2o, \"Total Spend\")"
      ],
      "execution_count": 0,
      "outputs": []
    },
    {
      "cell_type": "code",
      "metadata": {
        "id": "Owh8Z3pWHyFp",
        "colab_type": "code",
        "colab": {
          "base_uri": "https://localhost:8080/",
          "height": 68
        },
        "outputId": "2927ebd9-4f6d-46c0-cbb1-7f26a9437b59"
      },
      "source": [
        "# Generate pairwise columns\n",
        "interaction_columns = ['Age_cut', 'Total Spend_cut']\n",
        "trn_h2o_cols = trn_h2o.interaction(factors=interaction_columns,    \n",
        "                                   pairwise=True,\n",
        "                                   max_factors=1000,\n",
        "                                   min_occurrence=100,\n",
        "                                   destination_frame=\"itrain\")\n",
        "vld_h2o_cols = vld_h2o.interaction(factors=interaction_columns,\n",
        "                                   pairwise=True,\n",
        "                                   max_factors=1000,\n",
        "                                   min_occurrence=100,\n",
        "                                   destination_frame=\"ivalid\")\n",
        "tst_h2o_cols = tst_h2o.interaction(factors=interaction_columns,\n",
        "                                   pairwise=True,\n",
        "                                   max_factors=1000,\n",
        "                                   min_occurrence=100,\n",
        "                                   destination_frame=\"itest\")"
      ],
      "execution_count": 27,
      "outputs": [
        {
          "output_type": "stream",
          "text": [
            "Interactions progress: |██████████████████████████████████████████████████| 100%\n",
            "Interactions progress: |██████████████████████████████████████████████████| 100%\n",
            "Interactions progress: |██████████████████████████████████████████████████| 100%\n"
          ],
          "name": "stdout"
        }
      ]
    },
    {
      "cell_type": "code",
      "metadata": {
        "id": "ezpyOlJPHyIr",
        "colab_type": "code",
        "colab": {}
      },
      "source": [
        "# Append pairwise columns to the H2OFrame\n",
        "trn_h2o = trn_h2o.cbind(trn_h2o_cols)\n",
        "vld_h2o = vld_h2o.cbind(vld_h2o_cols)\n",
        "tst_h2o = tst_h2o.cbind(tst_h2o_cols)"
      ],
      "execution_count": 0,
      "outputs": []
    },
    {
      "cell_type": "code",
      "metadata": {
        "id": "WmYIJBu-HyA8",
        "colab_type": "code",
        "colab": {
          "base_uri": "https://localhost:8080/",
          "height": 34
        },
        "outputId": "fe8979d8-ddbe-4a27-d0b7-d8d38c540121"
      },
      "source": [
        "# Try again\n",
        "glm_bi_v2 = H2OGeneralizedLinearEstimator(\n",
        "                    model_id='glm_v2',\n",
        "                    family='binomial',\n",
        "                    solver='L_BFGS',\n",
        "                    nfolds=25,\n",
        "                    lambda_=0.00001,\n",
        "                    balance_classes=True)\n",
        "glm_bi_v2.train(predictors, response, training_frame=trn_h2o, validation_frame=vld_h2o)"
      ],
      "execution_count": 29,
      "outputs": [
        {
          "output_type": "stream",
          "text": [
            "glm Model Build progress: |███████████████████████████████████████████████| 100%\n"
          ],
          "name": "stdout"
        }
      ]
    },
    {
      "cell_type": "code",
      "metadata": {
        "id": "JRA3Z3yR06by",
        "colab_type": "code",
        "colab": {
          "base_uri": "https://localhost:8080/",
          "height": 176
        },
        "outputId": "64aef40b-79b3-42d6-9b97-2f668782c703"
      },
      "source": [
        "# Show the confussion matrix\n",
        "glm_bi_v2.confusion_matrix(valid=True)"
      ],
      "execution_count": 30,
      "outputs": [
        {
          "output_type": "stream",
          "text": [
            "\n",
            "Confusion Matrix (Act/Pred) for max f1 @ threshold = 0.17826710047385128: \n"
          ],
          "name": "stdout"
        },
        {
          "output_type": "display_data",
          "data": {
            "text/html": [
              "<div>\n",
              "<style scoped>\n",
              "    .dataframe tbody tr th:only-of-type {\n",
              "        vertical-align: middle;\n",
              "    }\n",
              "\n",
              "    .dataframe tbody tr th {\n",
              "        vertical-align: top;\n",
              "    }\n",
              "\n",
              "    .dataframe thead th {\n",
              "        text-align: right;\n",
              "    }\n",
              "</style>\n",
              "<table border=\"1\" class=\"dataframe\">\n",
              "  <thead>\n",
              "    <tr style=\"text-align: right;\">\n",
              "      <th></th>\n",
              "      <th></th>\n",
              "      <th>0</th>\n",
              "      <th>1</th>\n",
              "      <th>Error</th>\n",
              "      <th>Rate</th>\n",
              "    </tr>\n",
              "  </thead>\n",
              "  <tbody>\n",
              "    <tr>\n",
              "      <th>0</th>\n",
              "      <td>0</td>\n",
              "      <td>1581.0</td>\n",
              "      <td>898.0</td>\n",
              "      <td>0.3622</td>\n",
              "      <td>(898.0/2479.0)</td>\n",
              "    </tr>\n",
              "    <tr>\n",
              "      <th>1</th>\n",
              "      <td>1</td>\n",
              "      <td>223.0</td>\n",
              "      <td>583.0</td>\n",
              "      <td>0.2767</td>\n",
              "      <td>(223.0/806.0)</td>\n",
              "    </tr>\n",
              "    <tr>\n",
              "      <th>2</th>\n",
              "      <td>Total</td>\n",
              "      <td>1804.0</td>\n",
              "      <td>1481.0</td>\n",
              "      <td>0.3412</td>\n",
              "      <td>(1121.0/3285.0)</td>\n",
              "    </tr>\n",
              "  </tbody>\n",
              "</table>\n",
              "</div>"
            ],
            "text/plain": [
              "               0       1   Error              Rate\n",
              "0      0  1581.0   898.0  0.3622    (898.0/2479.0)\n",
              "1      1   223.0   583.0  0.2767     (223.0/806.0)\n",
              "2  Total  1804.0  1481.0  0.3412   (1121.0/3285.0)"
            ]
          },
          "metadata": {
            "tags": []
          }
        },
        {
          "output_type": "execute_result",
          "data": {
            "text/plain": [
              ""
            ]
          },
          "metadata": {
            "tags": []
          },
          "execution_count": 30
        }
      ]
    },
    {
      "cell_type": "code",
      "metadata": {
        "id": "QjlckwHo06Zg",
        "colab_type": "code",
        "colab": {
          "base_uri": "https://localhost:8080/",
          "height": 34
        },
        "outputId": "48d07eeb-aead-492f-c692-7f7a482002da"
      },
      "source": [
        "# Show the accuracy\n",
        "glm_bi_v2.accuracy(valid=True)"
      ],
      "execution_count": 31,
      "outputs": [
        {
          "output_type": "execute_result",
          "data": {
            "text/plain": [
              "[[0.700568901439802, 0.7753424657534247]]"
            ]
          },
          "metadata": {
            "tags": []
          },
          "execution_count": 31
        }
      ]
    },
    {
      "cell_type": "markdown",
      "metadata": {
        "id": "alPjaBI-9pby",
        "colab_type": "text"
      },
      "source": [
        "## **Some H2O AutoML**\n"
      ]
    },
    {
      "cell_type": "code",
      "metadata": {
        "id": "_KO2MtyL9_b_",
        "colab_type": "code",
        "colab": {
          "base_uri": "https://localhost:8080/",
          "height": 34
        },
        "outputId": "f6bf10ed-4c7e-4ebf-ea55-b36000526b8b"
      },
      "source": [
        "# Clean the running cluster\n",
        "h2o.remove_all()\n",
        "# Reload the data into a H2OFrame and split the data again\n",
        "data = h2o.import_file(os.path.realpath(\"./promotional_sales.csv\"))\n",
        "trn_h2o, tst_h2o, vld_h2o = data.split_frame([0.7, 0.15], seed=1234)"
      ],
      "execution_count": 32,
      "outputs": [
        {
          "output_type": "stream",
          "text": [
            "Parse progress: |█████████████████████████████████████████████████████████| 100%\n"
          ],
          "name": "stdout"
        }
      ]
    },
    {
      "cell_type": "code",
      "metadata": {
        "id": "Rt0fctDs-1lA",
        "colab_type": "code",
        "colab": {
          "base_uri": "https://localhost:8080/",
          "height": 34
        },
        "outputId": "034ade15-c7cc-4350-9397-e300c2fcf375"
      },
      "source": [
        "# Run AutoML for 15 base models (limited to 1 hour max runtime by default)\n",
        "aml = H2OAutoML(max_models=15,\n",
        "                seed=1234,\n",
        "                balance_classes=True)\n",
        "aml.train(x=predictors,\n",
        "          y=response,\n",
        "          training_frame = trn_h2o,\n",
        "          validation_frame = vld_h2o)"
      ],
      "execution_count": 33,
      "outputs": [
        {
          "output_type": "stream",
          "text": [
            "AutoML progress: |████████████████████████████████████████████████████████| 100%\n"
          ],
          "name": "stdout"
        }
      ]
    },
    {
      "cell_type": "code",
      "metadata": {
        "id": "Atk1imKr_EnT",
        "colab_type": "code",
        "colab": {
          "base_uri": "https://localhost:8080/",
          "height": 376
        },
        "outputId": "3465a774-59f9-42b6-b23f-dd8aca6d2d48"
      },
      "source": [
        "# View the AutoML leaderboard\n",
        "lb = aml.leaderboard\n",
        "lb.head(rows=lb.nrows)"
      ],
      "execution_count": 34,
      "outputs": [
        {
          "output_type": "display_data",
          "data": {
            "text/html": [
              "<table>\n",
              "<thead>\n",
              "<tr><th>model_id                                           </th><th style=\"text-align: right;\">  mean_residual_deviance</th><th style=\"text-align: right;\">    rmse</th><th style=\"text-align: right;\">     mse</th><th style=\"text-align: right;\">     mae</th><th style=\"text-align: right;\">   rmsle</th></tr>\n",
              "</thead>\n",
              "<tbody>\n",
              "<tr><td>StackedEnsemble_AllModels_AutoML_20191211_230105   </td><td style=\"text-align: right;\">                0.133326</td><td style=\"text-align: right;\">0.365138</td><td style=\"text-align: right;\">0.133326</td><td style=\"text-align: right;\">0.266993</td><td style=\"text-align: right;\">0.256111</td></tr>\n",
              "<tr><td>StackedEnsemble_BestOfFamily_AutoML_20191211_230105</td><td style=\"text-align: right;\">                0.133373</td><td style=\"text-align: right;\">0.365202</td><td style=\"text-align: right;\">0.133373</td><td style=\"text-align: right;\">0.26713 </td><td style=\"text-align: right;\">0.256229</td></tr>\n",
              "<tr><td>XGBoost_grid_1_AutoML_20191211_230105_model_2      </td><td style=\"text-align: right;\">                0.133398</td><td style=\"text-align: right;\">0.365237</td><td style=\"text-align: right;\">0.133398</td><td style=\"text-align: right;\">0.271104</td><td style=\"text-align: right;\">0.25636 </td></tr>\n",
              "<tr><td>XGBoost_grid_1_AutoML_20191211_230105_model_1      </td><td style=\"text-align: right;\">                0.133495</td><td style=\"text-align: right;\">0.36537 </td><td style=\"text-align: right;\">0.133495</td><td style=\"text-align: right;\">0.270138</td><td style=\"text-align: right;\">0.256486</td></tr>\n",
              "<tr><td>XGBoost_3_AutoML_20191211_230105                   </td><td style=\"text-align: right;\">                0.133511</td><td style=\"text-align: right;\">0.365391</td><td style=\"text-align: right;\">0.133511</td><td style=\"text-align: right;\">0.27074 </td><td style=\"text-align: right;\">0.256315</td></tr>\n",
              "<tr><td>GBM_1_AutoML_20191211_230105                       </td><td style=\"text-align: right;\">                0.135502</td><td style=\"text-align: right;\">0.368106</td><td style=\"text-align: right;\">0.135502</td><td style=\"text-align: right;\">0.268212</td><td style=\"text-align: right;\">0.257844</td></tr>\n",
              "<tr><td>GBM_5_AutoML_20191211_230105                       </td><td style=\"text-align: right;\">                0.136074</td><td style=\"text-align: right;\">0.368882</td><td style=\"text-align: right;\">0.136074</td><td style=\"text-align: right;\">0.26756 </td><td style=\"text-align: right;\">0.258619</td></tr>\n",
              "<tr><td>GBM_2_AutoML_20191211_230105                       </td><td style=\"text-align: right;\">                0.136314</td><td style=\"text-align: right;\">0.369207</td><td style=\"text-align: right;\">0.136314</td><td style=\"text-align: right;\">0.266815</td><td style=\"text-align: right;\">0.258741</td></tr>\n",
              "<tr><td>GBM_grid_1_AutoML_20191211_230105_model_1          </td><td style=\"text-align: right;\">                0.137257</td><td style=\"text-align: right;\">0.370482</td><td style=\"text-align: right;\">0.137257</td><td style=\"text-align: right;\">0.281194</td><td style=\"text-align: right;\">0.259598</td></tr>\n",
              "<tr><td>GBM_3_AutoML_20191211_230105                       </td><td style=\"text-align: right;\">                0.137981</td><td style=\"text-align: right;\">0.371459</td><td style=\"text-align: right;\">0.137981</td><td style=\"text-align: right;\">0.26608 </td><td style=\"text-align: right;\">0.259969</td></tr>\n",
              "<tr><td>XGBoost_1_AutoML_20191211_230105                   </td><td style=\"text-align: right;\">                0.139175</td><td style=\"text-align: right;\">0.373061</td><td style=\"text-align: right;\">0.139175</td><td style=\"text-align: right;\">0.273378</td><td style=\"text-align: right;\">0.262753</td></tr>\n",
              "<tr><td>GBM_4_AutoML_20191211_230105                       </td><td style=\"text-align: right;\">                0.140437</td><td style=\"text-align: right;\">0.374749</td><td style=\"text-align: right;\">0.140437</td><td style=\"text-align: right;\">0.26769 </td><td style=\"text-align: right;\">0.26227 </td></tr>\n",
              "<tr><td>XGBoost_2_AutoML_20191211_230105                   </td><td style=\"text-align: right;\">                0.142152</td><td style=\"text-align: right;\">0.377031</td><td style=\"text-align: right;\">0.142152</td><td style=\"text-align: right;\">0.275226</td><td style=\"text-align: right;\">0.266277</td></tr>\n",
              "<tr><td>DRF_1_AutoML_20191211_230105                       </td><td style=\"text-align: right;\">                0.142729</td><td style=\"text-align: right;\">0.377795</td><td style=\"text-align: right;\">0.142729</td><td style=\"text-align: right;\">0.272463</td><td style=\"text-align: right;\">0.265628</td></tr>\n",
              "<tr><td>XRT_1_AutoML_20191211_230105                       </td><td style=\"text-align: right;\">                0.142737</td><td style=\"text-align: right;\">0.377805</td><td style=\"text-align: right;\">0.142737</td><td style=\"text-align: right;\">0.272079</td><td style=\"text-align: right;\">0.265614</td></tr>\n",
              "<tr><td>GLM_grid_1_AutoML_20191211_230105_model_1          </td><td style=\"text-align: right;\">                0.154069</td><td style=\"text-align: right;\">0.392517</td><td style=\"text-align: right;\">0.154069</td><td style=\"text-align: right;\">0.317508</td><td style=\"text-align: right;\">0.277822</td></tr>\n",
              "</tbody>\n",
              "</table>"
            ]
          },
          "metadata": {
            "tags": []
          }
        },
        {
          "output_type": "execute_result",
          "data": {
            "text/plain": [
              ""
            ]
          },
          "metadata": {
            "tags": []
          },
          "execution_count": 34
        }
      ]
    },
    {
      "cell_type": "code",
      "metadata": {
        "id": "yUy8ErdD_MNe",
        "colab_type": "code",
        "colab": {
          "base_uri": "https://localhost:8080/",
          "height": 884
        },
        "outputId": "a8ca3086-56cd-450e-b43f-b466eac4e29f"
      },
      "source": [
        "# Some information about the leader model\n",
        "aml.leader"
      ],
      "execution_count": 49,
      "outputs": [
        {
          "output_type": "stream",
          "text": [
            "Model Details\n",
            "=============\n",
            "H2OStackedEnsembleEstimator :  Stacked Ensemble\n",
            "Model Key:  StackedEnsemble_AllModels_AutoML_20191211_230105\n",
            "\n",
            "No model summary for this model\n",
            "\n",
            "ModelMetricsRegressionGLM: stackedensemble\n",
            "** Reported on train data. **\n",
            "\n",
            "MSE: 0.12489368016028472\n",
            "RMSE: 0.3534029996481138\n",
            "MAE: 0.25852582708077476\n",
            "RMSLE: 0.24758434849820599\n",
            "R^2: 0.32579778428056216\n",
            "Mean Residual Deviance: 0.12489368016028472\n",
            "Null degrees of freedom: 15614\n",
            "Residual degrees of freedom: 15608\n",
            "Null deviance: 2892.6259365994492\n",
            "Residual deviance: 1950.214815702846\n",
            "AIC: 11845.683592732279\n",
            "\n",
            "ModelMetricsRegressionGLM: stackedensemble\n",
            "** Reported on validation data. **\n",
            "\n",
            "MSE: 0.12966090322848678\n",
            "RMSE: 0.3600845778820398\n",
            "MAE: 0.26328938524241213\n",
            "RMSLE: 0.25300995227493206\n",
            "R^2: 0.29972564557577575\n",
            "Mean Residual Deviance: 0.12966090322848678\n",
            "Null degrees of freedom: 3284\n",
            "Residual degrees of freedom: 3278\n",
            "Null deviance: 608.2418058450836\n",
            "Residual deviance: 425.93606710557907\n",
            "AIC: 2627.7208319259234\n",
            "\n",
            "ModelMetricsRegressionGLM: stackedensemble\n",
            "** Reported on cross-validation data. **\n",
            "\n",
            "MSE: 0.13332596203826722\n",
            "RMSE: 0.3651382779691376\n",
            "MAE: 0.26699263318894095\n",
            "RMSLE: 0.25611078673018295\n",
            "R^2: 0.28027856250400285\n",
            "Mean Residual Deviance: 0.13332596203826722\n",
            "Null degrees of freedom: 15614\n",
            "Residual degrees of freedom: 15608\n",
            "Null deviance: 2892.7479359571253\n",
            "Residual deviance: 2081.8848972275428\n",
            "AIC: 12865.876431557315\n"
          ],
          "name": "stdout"
        },
        {
          "output_type": "execute_result",
          "data": {
            "text/plain": [
              ""
            ]
          },
          "metadata": {
            "tags": []
          },
          "execution_count": 49
        }
      ]
    },
    {
      "cell_type": "code",
      "metadata": {
        "id": "SyYxVFay_Ot-",
        "colab_type": "code",
        "colab": {
          "base_uri": "https://localhost:8080/",
          "height": 267
        },
        "outputId": "6a4beb93-6ece-4b52-b3b4-0ec54a52d162"
      },
      "source": [
        "# Compute some predictions on the test set\n",
        "predictions_automl_h2o = m.predict(vld_h2o)\n",
        "# And present some of the predictions computed\n",
        "predictions_automl_h2o.head()"
      ],
      "execution_count": 65,
      "outputs": [
        {
          "output_type": "stream",
          "text": [
            "xgboost prediction progress: |████████████████████████████████████████████| 100%\n"
          ],
          "name": "stdout"
        },
        {
          "output_type": "display_data",
          "data": {
            "text/html": [
              "<table>\n",
              "<thead>\n",
              "<tr><th style=\"text-align: right;\">  predict</th></tr>\n",
              "</thead>\n",
              "<tbody>\n",
              "<tr><td style=\"text-align: right;\">0.0979992</td></tr>\n",
              "<tr><td style=\"text-align: right;\">0.749705 </td></tr>\n",
              "<tr><td style=\"text-align: right;\">0.914867 </td></tr>\n",
              "<tr><td style=\"text-align: right;\">0.284413 </td></tr>\n",
              "<tr><td style=\"text-align: right;\">0.0374087</td></tr>\n",
              "<tr><td style=\"text-align: right;\">0.221132 </td></tr>\n",
              "<tr><td style=\"text-align: right;\">0.0572138</td></tr>\n",
              "<tr><td style=\"text-align: right;\">0.138939 </td></tr>\n",
              "<tr><td style=\"text-align: right;\">0.084806 </td></tr>\n",
              "<tr><td style=\"text-align: right;\">0.0853066</td></tr>\n",
              "</tbody>\n",
              "</table>"
            ]
          },
          "metadata": {
            "tags": []
          }
        },
        {
          "output_type": "execute_result",
          "data": {
            "text/plain": [
              ""
            ]
          },
          "metadata": {
            "tags": []
          },
          "execution_count": 65
        }
      ]
    },
    {
      "cell_type": "code",
      "metadata": {
        "id": "lxBogSeL_ZFR",
        "colab_type": "code",
        "colab": {}
      },
      "source": [
        "# Get model ids for all models in the AutoML Leaderboard\n",
        "model_ids = list(aml.leaderboard['model_id'].as_data_frame().iloc[:,0])\n",
        "# Get the \"All Models\" Stacked Ensemble model\n",
        "se = h2o.get_model([mid for mid in model_ids if \"StackedEnsemble_BestOfFamily\" in mid][0])\n",
        "# Get the Stacked Ensemble metalearner model\n",
        "metalearner = h2o.get_model(se.metalearner()['name'])\n",
        "%matplotlib inline\n",
        "metalearner.std_coef_plot()"
      ],
      "execution_count": 0,
      "outputs": []
    },
    {
      "cell_type": "code",
      "metadata": {
        "id": "p7E3FGDi_axE",
        "colab_type": "code",
        "colab": {
          "base_uri": "https://localhost:8080/",
          "height": 615
        },
        "outputId": "26fd4645-c98c-4230-af0b-77f607570e8d"
      },
      "source": [
        "# Finally some attribute (feature) importance, for fun I guess of XGBoost\n",
        "%matplotlib inline\n",
        "m = h2o.get_model(lb[2,\"model_id\"])\n",
        "m.varimp_plot()"
      ],
      "execution_count": 62,
      "outputs": [
        {
          "output_type": "display_data",
          "data": {
            "image/png": "[encoded data removed]",
            "text/plain": [
              "<Figure size 1008x720 with 1 Axes>"
            ]
          },
          "metadata": {
            "tags": []
          }
        }
      ]
    },
    {
      "cell_type": "markdown",
      "metadata": {
        "id": "XtYv11cz4rDt",
        "colab_type": "text"
      },
      "source": [
        "# **Conclusions and future work**\n",
        "\n",
        "The problem presented here is quite similar (if not the same) as the typical scenario of customer attrition (or churn). Where in churn we have 'customers' here we have promotion purchase indicator, and when in churn the customer cancels the service or subscription here we have a a customer that does not carry out the promotional purchase.\n",
        "\n",
        "It is relatively hard to predict accurately on imbalanced data without loss of information, particularly when the ratio of data to classify with is notably skewed and when the amount of data itself is limited. Therefore, some compromises are to be taken, usually by imputing information, else losing information when downsampling. Moreover, the aggregation of data per customer causes in its own a loss of information as there could be some patterns when it comes to individual amounts of items purchase as opposed to providing a total amount.\n",
        "\n",
        "There are many things still to do with this dataset (and much more I guess with contextual information on the dataset features (attributes). For example,\n",
        "\n",
        "* With more data it would be great to test some  efficiently but not necessarily that should outperform other algorithms.\n",
        "* Trying more algorithms (AutoML from H2O is precisely a good helper on this to do automatically).\n",
        "* ..."
      ]
    }
  ]
}